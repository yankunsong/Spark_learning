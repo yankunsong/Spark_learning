{
  "nbformat": 4,
  "nbformat_minor": 0,
  "metadata": {
    "kernelspec": {
      "display_name": "Python 3",
      "language": "python",
      "name": "python3"
    },
    "language_info": {
      "codemirror_mode": {
        "name": "ipython",
        "version": 3
      },
      "file_extension": ".py",
      "mimetype": "text/x-python",
      "name": "python",
      "nbconvert_exporter": "python",
      "pygments_lexer": "ipython3",
      "version": "3.8.3"
    },
    "colab": {
      "provenance": [],
      "include_colab_link": true
    }
  },
  "cells": [
    {
      "cell_type": "markdown",
      "metadata": {
        "id": "view-in-github",
        "colab_type": "text"
      },
      "source": [
        "<a href=\"https://colab.research.google.com/github/yankunsong/Spark_learning/blob/main/Working_with_RDD.ipynb\" target=\"_parent\"><img src=\"https://colab.research.google.com/assets/colab-badge.svg\" alt=\"Open In Colab\"/></a>"
      ]
    },
    {
      "cell_type": "markdown",
      "metadata": {
        "id": "gjuAVgrxmIo3"
      },
      "source": [
        "# **Working with RDD (Resilient Distributed Dataset)**\n",
        "\n",
        "**`Udemy Course: Best Hands-on Big Data Practices and Use Cases using PySpark`**\n",
        "\n",
        "**`Author: Amin Karami (PhD, FHEA)`**\n",
        "\n",
        "---\n",
        "\n",
        "**Resilient Distributed Dataset (RDD)**: RDD is the fundamental data structure of Spark. It is fault-tolerant (resilient) and immutable distributed collections of any type of objects.\n",
        "\n",
        "source: https://spark.apache.org/docs/latest/rdd-programming-guide.html\n",
        "\n",
        "source: https://spark.apache.org/docs/latest/api/python/reference/"
      ]
    },
    {
      "cell_type": "code",
      "metadata": {
        "id": "0LWTJaC8mHL5",
        "colab": {
          "base_uri": "https://localhost:8080/"
        },
        "outputId": "0e752ad1-87ad-454c-fae3-7d53d452f550"
      },
      "source": [
        "########## ONLY in Colab ##########\n",
        "!pip3 install pyspark\n",
        "########## ONLY in Colab ##########"
      ],
      "execution_count": 1,
      "outputs": [
        {
          "output_type": "stream",
          "name": "stdout",
          "text": [
            "Looking in indexes: https://pypi.org/simple, https://us-python.pkg.dev/colab-wheels/public/simple/\n",
            "Collecting pyspark\n",
            "  Downloading pyspark-3.3.1.tar.gz (281.4 MB)\n",
            "\u001b[2K     \u001b[90m━━━━━━━━━━━━━━━━━━━━━━━━━━━━━━━━━━━━━━━\u001b[0m \u001b[32m281.4/281.4 MB\u001b[0m \u001b[31m4.7 MB/s\u001b[0m eta \u001b[36m0:00:00\u001b[0m\n",
            "\u001b[?25h  Preparing metadata (setup.py) ... \u001b[?25l\u001b[?25hdone\n",
            "Collecting py4j==0.10.9.5\n",
            "  Downloading py4j-0.10.9.5-py2.py3-none-any.whl (199 kB)\n",
            "\u001b[2K     \u001b[90m━━━━━━━━━━━━━━━━━━━━━━━━━━━━━━━━━━━━━━\u001b[0m \u001b[32m199.7/199.7 KB\u001b[0m \u001b[31m12.9 MB/s\u001b[0m eta \u001b[36m0:00:00\u001b[0m\n",
            "\u001b[?25hBuilding wheels for collected packages: pyspark\n",
            "  Building wheel for pyspark (setup.py) ... \u001b[?25l\u001b[?25hdone\n",
            "  Created wheel for pyspark: filename=pyspark-3.3.1-py2.py3-none-any.whl size=281845512 sha256=3dcd948f153a590b36630fb4dd02dff90eb86abda0692150546bfb093afe6396\n",
            "  Stored in directory: /root/.cache/pip/wheels/43/dc/11/ec201cd671da62fa9c5cc77078235e40722170ceba231d7598\n",
            "Successfully built pyspark\n",
            "Installing collected packages: py4j, pyspark\n",
            "Successfully installed py4j-0.10.9.5 pyspark-3.3.1\n"
          ]
        }
      ]
    },
    {
      "cell_type": "code",
      "source": [
        "########## ONLY in Ubuntu Machine ##########\n",
        "# Load Spark engine\n",
        "!pip3 install -q findspark\n",
        "import findspark\n",
        "findspark.init()\n",
        "########## ONLY in Ubuntu Machine ##########"
      ],
      "metadata": {
        "id": "K-riUQ6WTHDl"
      },
      "execution_count": null,
      "outputs": []
    },
    {
      "cell_type": "code",
      "source": [
        "# Linking with Spark\n",
        "from pyspark import SparkContext, SparkConf"
      ],
      "metadata": {
        "id": "e3pTfRiwTMeY"
      },
      "execution_count": 3,
      "outputs": []
    },
    {
      "cell_type": "code",
      "source": [
        "# Initializing Spark\n",
        "conf = SparkConf().setAppName(\"RDD_practice\").setMaster(\"local[*]\")\n",
        "sc = SparkContext(conf=conf)\n",
        "print(sc)"
      ],
      "metadata": {
        "id": "A_ALGTfeTPN-",
        "colab": {
          "base_uri": "https://localhost:8080/"
        },
        "outputId": "799cc6d7-6ae0-4ee3-9761-e216b808412b"
      },
      "execution_count": 4,
      "outputs": [
        {
          "output_type": "stream",
          "name": "stdout",
          "text": [
            "<SparkContext master=local[*] appName=RDD_practice>\n"
          ]
        }
      ]
    },
    {
      "cell_type": "markdown",
      "source": [
        "# **Part 1: Create RDDs and Basic Operations**\n",
        "# **There are two ways to create RDDs:**\n",
        "\n",
        "1.   Parallelizing an existing collection in your driver program\n",
        "2.   Referencing a dataset in an external storage system, such as a shared filesystem, HDFS, HBase, or any data source offering a Hadoop InputFormat."
      ],
      "metadata": {
        "id": "quQ_GBpgWLRK"
      }
    },
    {
      "cell_type": "code",
      "source": [
        "# Generate random data:\n",
        "import random\n",
        "randomlist = random.sample(range(0,100), 10)\n",
        "print(randomlist)"
      ],
      "metadata": {
        "id": "ILkhrdMMTu9m",
        "colab": {
          "base_uri": "https://localhost:8080/"
        },
        "outputId": "933ab043-d1dc-4afc-dfd4-d31d6337649d"
      },
      "execution_count": 5,
      "outputs": [
        {
          "output_type": "stream",
          "name": "stdout",
          "text": [
            "[49, 46, 44, 53, 84, 97, 64, 65, 51, 39]\n"
          ]
        }
      ]
    },
    {
      "cell_type": "code",
      "source": [
        "# Create RDD:\n",
        "rdd1 = sc.parallelize(randomlist, 4)\n",
        "rdd1.collect()"
      ],
      "metadata": {
        "id": "1n39Bv24XHjt",
        "colab": {
          "base_uri": "https://localhost:8080/"
        },
        "outputId": "8849c16b-3a7a-4d90-e341-2f4008f519b6"
      },
      "execution_count": 7,
      "outputs": [
        {
          "output_type": "execute_result",
          "data": {
            "text/plain": [
              "[49, 46, 44, 53, 84, 97, 64, 65, 51, 39]"
            ]
          },
          "metadata": {},
          "execution_count": 7
        }
      ]
    },
    {
      "cell_type": "code",
      "source": [
        "# Data distribution in partitions:\n",
        "print(rdd1.getNumPartitions())\n",
        "print(rdd1.glom().collect())\n",
        "print(\"The first two partitions\", rdd1.glom().take(2))"
      ],
      "metadata": {
        "id": "b8aOYoMLX7Er",
        "colab": {
          "base_uri": "https://localhost:8080/"
        },
        "outputId": "46a6bfa9-44e5-4360-ec99-74530d21304e"
      },
      "execution_count": 12,
      "outputs": [
        {
          "output_type": "stream",
          "name": "stdout",
          "text": [
            "4\n",
            "[[49, 46], [44, 53], [84, 97], [64, 65, 51, 39]]\n",
            "The first two partitions [[49, 46], [44, 53]]\n"
          ]
        }
      ]
    },
    {
      "cell_type": "code",
      "source": [
        "# Print last partition\n",
        "rdd1.glom().collect()[-1]"
      ],
      "metadata": {
        "id": "9EffFOyTYC18",
        "colab": {
          "base_uri": "https://localhost:8080/"
        },
        "outputId": "52dde1a5-d234-46ca-a35a-509875c593e7"
      },
      "execution_count": 14,
      "outputs": [
        {
          "output_type": "execute_result",
          "data": {
            "text/plain": [
              "[64, 65, 51, 39]"
            ]
          },
          "metadata": {},
          "execution_count": 14
        }
      ]
    },
    {
      "cell_type": "code",
      "source": [
        "# count():\n",
        "rdd1.count()"
      ],
      "metadata": {
        "id": "9TL1kG-Ceo6E",
        "colab": {
          "base_uri": "https://localhost:8080/"
        },
        "outputId": "fd215688-63b2-40ba-8c49-4045369cf861"
      },
      "execution_count": 15,
      "outputs": [
        {
          "output_type": "execute_result",
          "data": {
            "text/plain": [
              "10"
            ]
          },
          "metadata": {},
          "execution_count": 15
        }
      ]
    },
    {
      "cell_type": "code",
      "source": [
        "# first():\n",
        "rdd1.first()"
      ],
      "metadata": {
        "id": "gZmfAahXeryY",
        "colab": {
          "base_uri": "https://localhost:8080/"
        },
        "outputId": "40a70e97-b6fc-4227-a033-060e6d6cb365"
      },
      "execution_count": 17,
      "outputs": [
        {
          "output_type": "execute_result",
          "data": {
            "text/plain": [
              "49"
            ]
          },
          "metadata": {},
          "execution_count": 17
        }
      ]
    },
    {
      "cell_type": "code",
      "source": [
        "# top():\n",
        "rdd1.top(3)"
      ],
      "metadata": {
        "id": "OnuGXcKLb8qa",
        "colab": {
          "base_uri": "https://localhost:8080/"
        },
        "outputId": "ad44679c-2564-4872-e7a0-32f7c503f115"
      },
      "execution_count": 18,
      "outputs": [
        {
          "output_type": "execute_result",
          "data": {
            "text/plain": [
              "[97, 84, 65]"
            ]
          },
          "metadata": {},
          "execution_count": 18
        }
      ]
    },
    {
      "cell_type": "code",
      "source": [
        "# distinct():\n",
        "rdd1.distinct().collect()"
      ],
      "metadata": {
        "id": "3xOj1w6teN_a",
        "colab": {
          "base_uri": "https://localhost:8080/"
        },
        "outputId": "0d66445e-7121-4d9d-b5b4-c696872ebabb"
      },
      "execution_count": 19,
      "outputs": [
        {
          "output_type": "execute_result",
          "data": {
            "text/plain": [
              "[44, 84, 64, 49, 53, 97, 65, 46, 51, 39]"
            ]
          },
          "metadata": {},
          "execution_count": 19
        }
      ]
    },
    {
      "cell_type": "code",
      "source": [
        "# map():\n",
        "rdd_map = rdd1.map(lambda x: 1 if x > 50 else -1 )\n",
        "rdd_map.collect()"
      ],
      "metadata": {
        "id": "qE0CJuhlZz1M",
        "colab": {
          "base_uri": "https://localhost:8080/"
        },
        "outputId": "0b4e7ba5-a902-484e-e062-0bdc5e3e13b4"
      },
      "execution_count": 21,
      "outputs": [
        {
          "output_type": "execute_result",
          "data": {
            "text/plain": [
              "[-1, -1, -1, 1, 1, 1, 1, 1, 1, -1]"
            ]
          },
          "metadata": {},
          "execution_count": 21
        }
      ]
    },
    {
      "cell_type": "code",
      "source": [
        "# filter(): \n",
        "rdd_filter = rdd1.filter(lambda x: x > 50)\n",
        "rdd_filter.glom().collect()"
      ],
      "metadata": {
        "id": "r804677wamjY",
        "colab": {
          "base_uri": "https://localhost:8080/"
        },
        "outputId": "8f9553cf-51ff-414a-8632-e11aa5ed19b6"
      },
      "execution_count": 23,
      "outputs": [
        {
          "output_type": "execute_result",
          "data": {
            "text/plain": [
              "[[], [53], [84, 97], [64, 65, 51]]"
            ]
          },
          "metadata": {},
          "execution_count": 23
        }
      ]
    },
    {
      "cell_type": "code",
      "source": [
        "# flatMap():\n",
        "rdd_flatmap = rdd1.flatMap(lambda x: [x+1, x-1])\n",
        "rdd_flatmap.collect()\n",
        "rdd_flatmap.reduce(lambda x, y: x + y)"
      ],
      "metadata": {
        "id": "9f--VFpvaqRj",
        "colab": {
          "base_uri": "https://localhost:8080/"
        },
        "outputId": "40998d34-8f8d-440a-fe2d-f859c0587761"
      },
      "execution_count": 25,
      "outputs": [
        {
          "output_type": "execute_result",
          "data": {
            "text/plain": [
              "1184"
            ]
          },
          "metadata": {},
          "execution_count": 25
        }
      ]
    },
    {
      "cell_type": "code",
      "source": [
        "# Descriptive statistics:\n",
        "print(rdd1.max(), rdd1.mean(), rdd1.stdev(), rdd1.sum())"
      ],
      "metadata": {
        "id": "1LSPGU35gk-q",
        "colab": {
          "base_uri": "https://localhost:8080/"
        },
        "outputId": "3a537fdc-e83d-4b42-ce4c-378d8bf743b5"
      },
      "execution_count": 26,
      "outputs": [
        {
          "output_type": "stream",
          "name": "stdout",
          "text": [
            "97 59.2 17.6737092880923 592\n"
          ]
        }
      ]
    },
    {
      "cell_type": "code",
      "source": [
        "# mapPartitions():\n",
        "def myfunc(partition):\n",
        "    yield sum(partition)\n",
        "\n",
        "rdd1.mapPartitions(myfunc).glom().collect()"
      ],
      "metadata": {
        "id": "PEKBDcW1bvZe",
        "colab": {
          "base_uri": "https://localhost:8080/"
        },
        "outputId": "b5ad0014-026c-47b2-e9b4-0ffee1147c6b"
      },
      "execution_count": 28,
      "outputs": [
        {
          "output_type": "execute_result",
          "data": {
            "text/plain": [
              "[[95], [97], [181], [219]]"
            ]
          },
          "metadata": {},
          "execution_count": 28
        }
      ]
    },
    {
      "cell_type": "markdown",
      "source": [
        "# **Part 2: Advanced RDD Transformations and Actions**"
      ],
      "metadata": {
        "id": "EGi2zdncaoHo"
      }
    },
    {
      "cell_type": "code",
      "source": [
        "# union():\n",
        "rdd2 = sc.parallelize([1,2,3,49,53], 2)\n",
        "rdd_union = rdd1.union(rdd2)\n",
        "rdd_union.glom().collect()"
      ],
      "metadata": {
        "id": "bIKu4KMrdt1k",
        "colab": {
          "base_uri": "https://localhost:8080/"
        },
        "outputId": "94cf27e8-b3ab-44e5-bc3f-1dd42e245399"
      },
      "execution_count": 37,
      "outputs": [
        {
          "output_type": "execute_result",
          "data": {
            "text/plain": [
              "[[49, 46], [44, 53], [84, 97], [64, 65, 51, 39], [1, 2], [3, 49, 53]]"
            ]
          },
          "metadata": {},
          "execution_count": 37
        }
      ]
    },
    {
      "cell_type": "code",
      "source": [
        "# intersection():\n",
        "rdd_intersection = rdd1.intersection(rdd2)\n",
        "rdd_intersection.glom().collect()"
      ],
      "metadata": {
        "id": "DmQ3bNUkeMVk",
        "colab": {
          "base_uri": "https://localhost:8080/"
        },
        "outputId": "3752ebf7-1866-4d21-ca9e-922d3c460a03"
      },
      "execution_count": 38,
      "outputs": [
        {
          "output_type": "execute_result",
          "data": {
            "text/plain": [
              "[[], [49], [], [], [], [53]]"
            ]
          },
          "metadata": {},
          "execution_count": 38
        }
      ]
    },
    {
      "cell_type": "code",
      "source": [
        "# Find empty partitions\n"
      ],
      "metadata": {
        "id": "E2g0ep9M8GX8"
      },
      "execution_count": null,
      "outputs": []
    },
    {
      "cell_type": "code",
      "source": [
        "# coalesce(numPartitions):\n",
        "rdd_intersection.coalesce(1).glom().collect()"
      ],
      "metadata": {
        "id": "-AopsaZqehmA",
        "colab": {
          "base_uri": "https://localhost:8080/"
        },
        "outputId": "83994fb9-d553-40ba-ba71-3d61b648203f"
      },
      "execution_count": 39,
      "outputs": [
        {
          "output_type": "execute_result",
          "data": {
            "text/plain": [
              "[[49, 53]]"
            ]
          },
          "metadata": {},
          "execution_count": 39
        }
      ]
    },
    {
      "cell_type": "code",
      "source": [
        "# takeSample(withReplacement, num, [seed])\n",
        "rdd1.takeSample(False, 3)"
      ],
      "metadata": {
        "id": "OFjDbelJeuoq",
        "colab": {
          "base_uri": "https://localhost:8080/"
        },
        "outputId": "ce4de1d0-b570-4418-ea8f-d296f025acfc"
      },
      "execution_count": 40,
      "outputs": [
        {
          "output_type": "execute_result",
          "data": {
            "text/plain": [
              "[46, 65, 39]"
            ]
          },
          "metadata": {},
          "execution_count": 40
        }
      ]
    },
    {
      "cell_type": "code",
      "source": [
        "# takeOrdered(n, [ordering])\n",
        "rdd1.takeOrdered(5)"
      ],
      "metadata": {
        "id": "_K41G_W9ezhS",
        "colab": {
          "base_uri": "https://localhost:8080/"
        },
        "outputId": "094cc126-8579-440e-f1b2-816b5d7435df"
      },
      "execution_count": 41,
      "outputs": [
        {
          "output_type": "execute_result",
          "data": {
            "text/plain": [
              "[39, 44, 46, 49, 51]"
            ]
          },
          "metadata": {},
          "execution_count": 41
        }
      ]
    },
    {
      "cell_type": "code",
      "source": [
        "# reduce():\n",
        "rdd1.reduce(lambda x,y: x+y)"
      ],
      "metadata": {
        "id": "sgBhaTdAeldY",
        "colab": {
          "base_uri": "https://localhost:8080/"
        },
        "outputId": "f935fe7d-101b-4878-ba45-d858123f03d7"
      },
      "execution_count": 42,
      "outputs": [
        {
          "output_type": "execute_result",
          "data": {
            "text/plain": [
              "592"
            ]
          },
          "metadata": {},
          "execution_count": 42
        }
      ]
    },
    {
      "cell_type": "code",
      "source": [
        "# reduceByKey():\n",
        "rdd_rbk = sc.parallelize([(1,1), (1,2), (2,5),(2,8), (3,4)], 2)\n",
        "a = rdd_rbk.reduceByKey(lambda x, y: x+y)\n",
        "print(type(a))\n",
        "print(a.collect())"
      ],
      "metadata": {
        "id": "aj8-Q40_eXT2",
        "colab": {
          "base_uri": "https://localhost:8080/"
        },
        "outputId": "a85471fa-1697-4152-ae3f-0b3831e744cd"
      },
      "execution_count": 48,
      "outputs": [
        {
          "output_type": "stream",
          "name": "stdout",
          "text": [
            "<class 'pyspark.rdd.PipelinedRDD'>\n",
            "[(2, 13), (1, 3), (3, 4)]\n"
          ]
        }
      ]
    },
    {
      "cell_type": "code",
      "source": [
        "# sortByKey():\n",
        "a.sortByKey().collect()"
      ],
      "metadata": {
        "id": "Ii8M3qNMeaHC",
        "colab": {
          "base_uri": "https://localhost:8080/"
        },
        "outputId": "3ae87a61-6a9b-47f1-8873-7cec4435117f"
      },
      "execution_count": 50,
      "outputs": [
        {
          "output_type": "execute_result",
          "data": {
            "text/plain": [
              "[(1, 3), (2, 13), (3, 4)]"
            ]
          },
          "metadata": {},
          "execution_count": 50
        }
      ]
    },
    {
      "cell_type": "code",
      "source": [
        "# countByKey()\n",
        "rdd_rbk.countByKey()"
      ],
      "metadata": {
        "id": "2-WYDKd2e0qf",
        "colab": {
          "base_uri": "https://localhost:8080/"
        },
        "outputId": "d4163f89-f054-42eb-b83f-a9ee31487674"
      },
      "execution_count": 51,
      "outputs": [
        {
          "output_type": "execute_result",
          "data": {
            "text/plain": [
              "defaultdict(int, {1: 2, 2: 2, 3: 1})"
            ]
          },
          "metadata": {},
          "execution_count": 51
        }
      ]
    },
    {
      "cell_type": "code",
      "source": [
        "# groupByKey():\n",
        "rdd_rbk.groupByKey().collect()"
      ],
      "metadata": {
        "id": "bihcXC8DeUEv",
        "colab": {
          "base_uri": "https://localhost:8080/"
        },
        "outputId": "baeedaf3-d11c-422a-f799-c5a1e2cce054"
      },
      "execution_count": 55,
      "outputs": [
        {
          "output_type": "execute_result",
          "data": {
            "text/plain": [
              "[(2, <pyspark.resultiterable.ResultIterable at 0x7f0738af44f0>),\n",
              " (1, <pyspark.resultiterable.ResultIterable at 0x7f0738af4d30>),\n",
              " (3, <pyspark.resultiterable.ResultIterable at 0x7f0738af46a0>)]"
            ]
          },
          "metadata": {},
          "execution_count": 55
        }
      ]
    },
    {
      "cell_type": "code",
      "source": [
        "# lookup(key):\n",
        "rdd_rbk.lookup(1)"
      ],
      "metadata": {
        "id": "5NzYUXEJhDM9",
        "colab": {
          "base_uri": "https://localhost:8080/"
        },
        "outputId": "448c435a-e15b-4d1d-832c-ca03aebe1eae"
      },
      "execution_count": 56,
      "outputs": [
        {
          "output_type": "execute_result",
          "data": {
            "text/plain": [
              "[1, 2]"
            ]
          },
          "metadata": {},
          "execution_count": 56
        }
      ]
    },
    {
      "cell_type": "code",
      "source": [
        "# cache:\n",
        "# By default, each transformed RDD may be recomputed each time you run an action on it.\n",
        "# However, you may also persist an RDD in memory using the persist (or cache) method,\n",
        "# in which case Spark will keep the elements around on the cluster for much faster access the next time you query it.\n",
        "rdd_rbk.persist()"
      ],
      "metadata": {
        "id": "g9ThlLGO6z7u",
        "colab": {
          "base_uri": "https://localhost:8080/"
        },
        "outputId": "b8e92d7c-760c-47d6-de08-eb3b76a6f3b8"
      },
      "execution_count": 57,
      "outputs": [
        {
          "output_type": "execute_result",
          "data": {
            "text/plain": [
              "ParallelCollectionRDD[124] at readRDDFromFile at PythonRDD.scala:274"
            ]
          },
          "metadata": {},
          "execution_count": 57
        }
      ]
    },
    {
      "cell_type": "code",
      "source": [
        "# Persistence (https://spark.apache.org/docs/latest/rdd-programming-guide.html#rdd-persistence)\n",
        "from pyspark import StorageLevel\n",
        "rdd1.persist(StorageLevel.MEMORY_AND_DISK)"
      ],
      "metadata": {
        "id": "5zYpm9hpiqPc"
      },
      "execution_count": null,
      "outputs": []
    }
  ]
}